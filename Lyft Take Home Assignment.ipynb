{
 "cells": [
  {
   "cell_type": "markdown",
   "metadata": {},
   "source": [
    "## Assignment Exercises"
   ]
  },
  {
   "cell_type": "markdown",
   "metadata": {},
   "source": [
    "**Note:** All the exercises will be based off the current date of Saturday 4/25/2020. Monday is considered to be the start of each week.\n",
    "\n",
    "Details on the dataset used can be found in the section Sample Data."
   ]
  },
  {
   "cell_type": "markdown",
   "metadata": {},
   "source": [
    "### Part A\n",
    "\n",
    "1) Write a query that we can use to create a plot of the total count of rides completed in our San Francisco region, in each week over the last 12 weeks.\n",
    "\n",
    "**Query:**\n",
    "```\n",
    "SELECT \n",
    "DATE(DATE_TRUNC('week', start_time)) AS week_start,\n",
    "COUNT(ride_id) AS ride_count\n",
    "FROM rides \n",
    "WHERE ride_region = 'San Francisco'\n",
    "AND is_completed = 'Y'\n",
    "GROUP BY week_start\n",
    "ORDER BY week_start desc\n",
    "LIMIT 12;\n",
    "```"
   ]
  },
  {
   "cell_type": "code",
   "execution_count": 117,
   "metadata": {},
   "outputs": [
    {
     "name": "stdout",
     "output_type": "stream",
     "text": [
      "Number of rows: 12\n",
      "\n",
      "Show me the databases:\n",
      "\n",
      "    (datetime.date(2020, 4, 20), 6)\n",
      "    (datetime.date(2020, 4, 13), 4)\n",
      "    (datetime.date(2020, 4, 6), 4)\n",
      "    (datetime.date(2020, 3, 30), 3)\n",
      "    (datetime.date(2020, 3, 23), 5)\n",
      "    (datetime.date(2020, 3, 16), 6)\n",
      "    (datetime.date(2020, 3, 9), 5)\n",
      "    (datetime.date(2020, 3, 2), 8)\n",
      "    (datetime.date(2020, 2, 24), 7)\n",
      "    (datetime.date(2020, 2, 17), 4)\n",
      "    (datetime.date(2020, 2, 10), 8)\n",
      "    (datetime.date(2020, 2, 3), 3)\n"
     ]
    }
   ],
   "source": [
    "cur.execute(\"\"\"SELECT \n",
    "                DATE(DATE_TRUNC('week', start_time)) AS week_start,\n",
    "                COUNT(ride_id) AS ride_count\n",
    "                FROM rides \n",
    "                WHERE ride_region = 'San Francisco'\n",
    "                AND is_completed = 'Y'\n",
    "                GROUP BY week_start\n",
    "                ORDER BY week_start desc\n",
    "                LIMIT 12;\n",
    "                \"\"\")\n",
    "rows = cur.fetchall()\n",
    "conn.commit()\n",
    "\n",
    "print(f\"Number of rows: {len(rows)}\")\n",
    "print (\"\\nShow me the databases:\\n\")\n",
    "for row in rows:\n",
    "    print(\"   \", row)"
   ]
  },
  {
   "cell_type": "markdown",
   "metadata": {},
   "source": [
    "**Verification**"
   ]
  },
  {
   "cell_type": "code",
   "execution_count": 118,
   "metadata": {},
   "outputs": [
    {
     "data": {
      "text/html": [
       "<div>\n",
       "<style scoped>\n",
       "    .dataframe tbody tr th:only-of-type {\n",
       "        vertical-align: middle;\n",
       "    }\n",
       "\n",
       "    .dataframe tbody tr th {\n",
       "        vertical-align: top;\n",
       "    }\n",
       "\n",
       "    .dataframe thead th {\n",
       "        text-align: right;\n",
       "    }\n",
       "</style>\n",
       "<table border=\"1\" class=\"dataframe\">\n",
       "  <thead>\n",
       "    <tr style=\"text-align: right;\">\n",
       "      <th></th>\n",
       "      <th>week_start</th>\n",
       "      <th>ride_id</th>\n",
       "    </tr>\n",
       "  </thead>\n",
       "  <tbody>\n",
       "    <tr>\n",
       "      <th>18</th>\n",
       "      <td>2020-04-20</td>\n",
       "      <td>6</td>\n",
       "    </tr>\n",
       "    <tr>\n",
       "      <th>17</th>\n",
       "      <td>2020-04-13</td>\n",
       "      <td>4</td>\n",
       "    </tr>\n",
       "    <tr>\n",
       "      <th>16</th>\n",
       "      <td>2020-04-06</td>\n",
       "      <td>4</td>\n",
       "    </tr>\n",
       "    <tr>\n",
       "      <th>15</th>\n",
       "      <td>2020-03-30</td>\n",
       "      <td>3</td>\n",
       "    </tr>\n",
       "    <tr>\n",
       "      <th>14</th>\n",
       "      <td>2020-03-23</td>\n",
       "      <td>5</td>\n",
       "    </tr>\n",
       "    <tr>\n",
       "      <th>13</th>\n",
       "      <td>2020-03-16</td>\n",
       "      <td>6</td>\n",
       "    </tr>\n",
       "    <tr>\n",
       "      <th>12</th>\n",
       "      <td>2020-03-09</td>\n",
       "      <td>5</td>\n",
       "    </tr>\n",
       "    <tr>\n",
       "      <th>11</th>\n",
       "      <td>2020-03-02</td>\n",
       "      <td>8</td>\n",
       "    </tr>\n",
       "    <tr>\n",
       "      <th>10</th>\n",
       "      <td>2020-02-24</td>\n",
       "      <td>7</td>\n",
       "    </tr>\n",
       "    <tr>\n",
       "      <th>9</th>\n",
       "      <td>2020-02-17</td>\n",
       "      <td>4</td>\n",
       "    </tr>\n",
       "    <tr>\n",
       "      <th>8</th>\n",
       "      <td>2020-02-10</td>\n",
       "      <td>8</td>\n",
       "    </tr>\n",
       "    <tr>\n",
       "      <th>7</th>\n",
       "      <td>2020-02-03</td>\n",
       "      <td>3</td>\n",
       "    </tr>\n",
       "  </tbody>\n",
       "</table>\n",
       "</div>"
      ],
      "text/plain": [
       "   week_start  ride_id\n",
       "18 2020-04-20        6\n",
       "17 2020-04-13        4\n",
       "16 2020-04-06        4\n",
       "15 2020-03-30        3\n",
       "14 2020-03-23        5\n",
       "13 2020-03-16        6\n",
       "12 2020-03-09        5\n",
       "11 2020-03-02        8\n",
       "10 2020-02-24        7\n",
       "9  2020-02-17        4\n",
       "8  2020-02-10        8\n",
       "7  2020-02-03        3"
      ]
     },
     "execution_count": 118,
     "metadata": {},
     "output_type": "execute_result"
    }
   ],
   "source": [
    "import warnings\n",
    "warnings.filterwarnings(\"ignore\")\n",
    "\n",
    "sf_rides = rides[(rides.ride_region == 'San Francisco') & (rides.is_completed == 'Y')]\n",
    "sf_rides['week_start'] = sf_rides['start_time'].dt.to_period('W').apply(lambda r: r.start_time)\n",
    "sf_rides.groupby('week_start').count()['ride_id'].reset_index().sort_values('week_start', ascending = False)[:12]"
   ]
  },
  {
   "cell_type": "markdown",
   "metadata": {},
   "source": [
    "2) Write a query that returns a count of the total number of weekly drivers based in San Francisco to complete at least one ride in each week over the last 12 weeks.\n",
    "\n",
    "**Query:**\n",
    "```\n",
    "WITH d_weeks AS (\n",
    "    SELECT \n",
    "    rides.driver_id,\n",
    "    COUNT(DISTINCT DATE(DATE_TRUNC('week', start_time))) AS weeks_worked\n",
    "    FROM rides, drivers\n",
    "    WHERE rides.driver_id = drivers.driver_id\n",
    "    AND home_region = 'San Francisco'\n",
    "    AND is_completed = 'Y'\n",
    "    AND DATE(DATE_TRUNC('week', start_time)) > (DATE_TRUNC('week', current_date) - interval '12 weeks')\n",
    "    GROUP BY rides.driver_id)\n",
    "\n",
    "SELECT\n",
    "COUNT(*) FILTER (WHERE weeks_worked = 12)\n",
    "FROM d_weeks\n",
    ";\n",
    "```"
   ]
  },
  {
   "cell_type": "code",
   "execution_count": 142,
   "metadata": {},
   "outputs": [
    {
     "name": "stdout",
     "output_type": "stream",
     "text": [
      "\n",
      "Show me the databases:\n",
      "\n",
      "    (2,)\n"
     ]
    }
   ],
   "source": [
    "cur.execute(\"\"\"\n",
    "WITH d_weeks AS (\n",
    "    SELECT \n",
    "    rides.driver_id,\n",
    "    COUNT(DISTINCT DATE(DATE_TRUNC('week', start_time))) AS weeks_worked\n",
    "    FROM rides, drivers\n",
    "    WHERE rides.driver_id = drivers.driver_id\n",
    "    AND home_region = 'San Francisco'\n",
    "    AND is_completed = 'Y'\n",
    "    AND DATE(DATE_TRUNC('week', start_time)) > (DATE_TRUNC('week', current_date) - interval '12 weeks')\n",
    "    GROUP BY rides.driver_id)\n",
    "\n",
    "SELECT\n",
    "COUNT(*) FILTER (WHERE weeks_worked = 12)\n",
    "FROM d_weeks\n",
    ";\n",
    "                \"\"\")\n",
    "rows = cur.fetchall()\n",
    "conn.commit()\n",
    "\n",
    "print (\"\\nShow me the databases:\\n\")\n",
    "for row in rows:\n",
    "    print(\"   \", row)"
   ]
  },
  {
   "cell_type": "markdown",
   "metadata": {},
   "source": [
    "**Verification**"
   ]
  },
  {
   "cell_type": "code",
   "execution_count": 141,
   "metadata": {},
   "outputs": [
    {
     "data": {
      "text/html": [
       "<div>\n",
       "<style scoped>\n",
       "    .dataframe tbody tr th:only-of-type {\n",
       "        vertical-align: middle;\n",
       "    }\n",
       "\n",
       "    .dataframe tbody tr th {\n",
       "        vertical-align: top;\n",
       "    }\n",
       "\n",
       "    .dataframe thead th {\n",
       "        text-align: right;\n",
       "    }\n",
       "</style>\n",
       "<table border=\"1\" class=\"dataframe\">\n",
       "  <thead>\n",
       "    <tr style=\"text-align: right;\">\n",
       "      <th></th>\n",
       "      <th>driver_id</th>\n",
       "      <th>week_start</th>\n",
       "    </tr>\n",
       "  </thead>\n",
       "  <tbody>\n",
       "    <tr>\n",
       "      <th>2</th>\n",
       "      <td>D27158</td>\n",
       "      <td>12</td>\n",
       "    </tr>\n",
       "    <tr>\n",
       "      <th>12</th>\n",
       "      <td>D96971</td>\n",
       "      <td>12</td>\n",
       "    </tr>\n",
       "  </tbody>\n",
       "</table>\n",
       "</div>"
      ],
      "text/plain": [
       "   driver_id  week_start\n",
       "2     D27158          12\n",
       "12    D96971          12"
      ]
     },
     "execution_count": 141,
     "metadata": {},
     "output_type": "execute_result"
    }
   ],
   "source": [
    "d_rides = rides.merge(drivers[['driver_id', 'home_region']], how = 'left', on = 'driver_id')\n",
    "d_rides['week_start'] = d_rides['start_time'].dt.to_period('W').apply(lambda r: r.start_time)\n",
    "\n",
    "today = dt.date.today()\n",
    "current_week = today - dt.timedelta(days=today.weekday())\n",
    "current_week - dt.timedelta(weeks = 12)\n",
    "\n",
    "d_rides = d_rides[(d_rides.is_completed == 'Y') & (d_rides.home_region == 'San Francisco') & (d_rides.week_start > (current_week - dt.timedelta(weeks = 12)))]\n",
    "weekly_drivers = d_rides.groupby(['driver_id'])['week_start'].nunique().reset_index()\n",
    "weekly_drivers[weekly_drivers.week_start == 12]"
   ]
  },
  {
   "cell_type": "markdown",
   "metadata": {},
   "source": [
    "### Part B\n",
    "\n",
    "We notice that ride counts fluctuate in a pattern depending on the day of the week. We want to remove the effect of these daily fluctuations so that we can see trends occurring on a week by week basis.\n",
    "\n",
    "Write a query that returns, for each of the last 90 days, a count of the rides taken in the 7 day window preceding that day.\n",
    "\n",
    "**Query:**\n",
    "```\n",
    "WITH dates AS(\n",
    "SELECT rolling_7_date::date\n",
    "FROM generate_series(current_date - interval '89 days', current_date, INTERVAL '1 day') rolling_7_date\n",
    ")\n",
    "\n",
    "SELECT\n",
    "rolling_7_date,\n",
    "COUNT(ride_id) AS ride_count\n",
    "FROM dates\n",
    "LEFT JOIN rides ON DATE(start_time) BETWEEN rolling_7_date - interval '7 days' AND rolling_7_date - interval '1 day'\n",
    "GROUP BY rolling_7_date\n",
    "ORDER BY rolling_7_date\n",
    ";\n",
    "```"
   ]
  },
  {
   "cell_type": "code",
   "execution_count": 146,
   "metadata": {},
   "outputs": [
    {
     "name": "stdout",
     "output_type": "stream",
     "text": [
      "Number of rows: 90\n",
      "\n",
      "Show me the databases:\n",
      "\n",
      "    (datetime.date(2020, 1, 27), 12)\n",
      "    (datetime.date(2020, 1, 28), 12)\n",
      "    (datetime.date(2020, 1, 29), 14)\n",
      "    (datetime.date(2020, 1, 30), 15)\n",
      "    (datetime.date(2020, 1, 31), 16)\n",
      "    (datetime.date(2020, 2, 1), 13)\n",
      "    (datetime.date(2020, 2, 2), 14)\n",
      "    (datetime.date(2020, 2, 3), 15)\n",
      "    (datetime.date(2020, 2, 4), 14)\n",
      "    (datetime.date(2020, 2, 5), 12)\n",
      "    (datetime.date(2020, 2, 6), 11)\n",
      "    (datetime.date(2020, 2, 7), 9)\n",
      "    (datetime.date(2020, 2, 8), 10)\n",
      "    (datetime.date(2020, 2, 9), 8)\n",
      "    (datetime.date(2020, 2, 10), 8)\n",
      "    (datetime.date(2020, 2, 11), 6)\n",
      "    (datetime.date(2020, 2, 12), 10)\n",
      "    (datetime.date(2020, 2, 13), 12)\n",
      "    (datetime.date(2020, 2, 14), 12)\n",
      "    (datetime.date(2020, 2, 15), 14)\n",
      "    (datetime.date(2020, 2, 16), 15)\n",
      "    (datetime.date(2020, 2, 17), 17)\n",
      "    (datetime.date(2020, 2, 18), 21)\n",
      "    (datetime.date(2020, 2, 19), 17)\n",
      "    (datetime.date(2020, 2, 20), 16)\n",
      "    (datetime.date(2020, 2, 21), 17)\n",
      "    (datetime.date(2020, 2, 22), 14)\n",
      "    (datetime.date(2020, 2, 23), 13)\n",
      "    (datetime.date(2020, 2, 24), 12)\n",
      "    (datetime.date(2020, 2, 25), 9)\n",
      "    (datetime.date(2020, 2, 26), 10)\n",
      "    (datetime.date(2020, 2, 27), 10)\n",
      "    (datetime.date(2020, 2, 28), 8)\n",
      "    (datetime.date(2020, 2, 29), 9)\n",
      "    (datetime.date(2020, 3, 1), 11)\n",
      "    (datetime.date(2020, 3, 2), 14)\n",
      "    (datetime.date(2020, 3, 3), 15)\n",
      "    (datetime.date(2020, 3, 4), 14)\n",
      "    (datetime.date(2020, 3, 5), 14)\n",
      "    (datetime.date(2020, 3, 6), 15)\n",
      "    (datetime.date(2020, 3, 7), 16)\n",
      "    (datetime.date(2020, 3, 8), 15)\n",
      "    (datetime.date(2020, 3, 9), 12)\n",
      "    (datetime.date(2020, 3, 10), 13)\n",
      "    (datetime.date(2020, 3, 11), 14)\n",
      "    (datetime.date(2020, 3, 12), 14)\n",
      "    (datetime.date(2020, 3, 13), 17)\n",
      "    (datetime.date(2020, 3, 14), 18)\n",
      "    (datetime.date(2020, 3, 15), 19)\n",
      "    (datetime.date(2020, 3, 16), 19)\n",
      "    (datetime.date(2020, 3, 17), 19)\n",
      "    (datetime.date(2020, 3, 18), 17)\n",
      "    (datetime.date(2020, 3, 19), 19)\n",
      "    (datetime.date(2020, 3, 20), 15)\n",
      "    (datetime.date(2020, 3, 21), 15)\n",
      "    (datetime.date(2020, 3, 22), 12)\n",
      "    (datetime.date(2020, 3, 23), 10)\n",
      "    (datetime.date(2020, 3, 24), 9)\n",
      "    (datetime.date(2020, 3, 25), 14)\n",
      "    (datetime.date(2020, 3, 26), 11)\n",
      "    (datetime.date(2020, 3, 27), 12)\n",
      "    (datetime.date(2020, 3, 28), 9)\n",
      "    (datetime.date(2020, 3, 29), 11)\n",
      "    (datetime.date(2020, 3, 30), 15)\n",
      "    (datetime.date(2020, 3, 31), 13)\n",
      "    (datetime.date(2020, 4, 1), 11)\n",
      "    (datetime.date(2020, 4, 2), 10)\n",
      "    (datetime.date(2020, 4, 3), 12)\n",
      "    (datetime.date(2020, 4, 4), 15)\n",
      "    (datetime.date(2020, 4, 5), 14)\n",
      "    (datetime.date(2020, 4, 6), 11)\n",
      "    (datetime.date(2020, 4, 7), 13)\n",
      "    (datetime.date(2020, 4, 8), 12)\n",
      "    (datetime.date(2020, 4, 9), 13)\n",
      "    (datetime.date(2020, 4, 10), 11)\n",
      "    (datetime.date(2020, 4, 11), 11)\n",
      "    (datetime.date(2020, 4, 12), 11)\n",
      "    (datetime.date(2020, 4, 13), 11)\n",
      "    (datetime.date(2020, 4, 14), 11)\n",
      "    (datetime.date(2020, 4, 15), 10)\n",
      "    (datetime.date(2020, 4, 16), 13)\n",
      "    (datetime.date(2020, 4, 17), 14)\n",
      "    (datetime.date(2020, 4, 18), 12)\n",
      "    (datetime.date(2020, 4, 19), 13)\n",
      "    (datetime.date(2020, 4, 20), 14)\n",
      "    (datetime.date(2020, 4, 21), 14)\n",
      "    (datetime.date(2020, 4, 22), 15)\n",
      "    (datetime.date(2020, 4, 23), 14)\n",
      "    (datetime.date(2020, 4, 24), 13)\n",
      "    (datetime.date(2020, 4, 25), 15)\n"
     ]
    }
   ],
   "source": [
    "cur.execute(\"\"\"\n",
    "WITH dates AS(\n",
    "SELECT rolling_7_date::date\n",
    "FROM generate_series(current_date - interval '89 days', current_date, INTERVAL '1 day') rolling_7_date\n",
    ")\n",
    "\n",
    "SELECT\n",
    "rolling_7_date,\n",
    "COUNT(ride_id) AS ride_count\n",
    "FROM dates\n",
    "LEFT JOIN rides ON DATE(start_time) BETWEEN rolling_7_date - interval '7 days' AND rolling_7_date - interval '1 day'\n",
    "GROUP BY rolling_7_date\n",
    "ORDER BY rolling_7_date\n",
    ";\n",
    "                \"\"\")\n",
    "rows = cur.fetchall()\n",
    "conn.commit()\n",
    "\n",
    "print(f\"Number of rows: {len(rows)}\")\n",
    "print (\"\\nShow me the databases:\\n\")\n",
    "for row in rows:\n",
    "    print(\"   \", row)"
   ]
  },
  {
   "cell_type": "markdown",
   "metadata": {},
   "source": [
    "## Sample Data"
   ]
  },
  {
   "cell_type": "code",
   "execution_count": 112,
   "metadata": {},
   "outputs": [],
   "source": [
    "import pandas as pd\n",
    "drivers = pd.read_csv('./Data/drivers.csv')\n",
    "rides = pd.read_csv('./Data/rides.csv', parse_dates = ['start_time', 'end_time'])"
   ]
  },
  {
   "cell_type": "markdown",
   "metadata": {},
   "source": [
    "### Drivers Dataset"
   ]
  },
  {
   "cell_type": "markdown",
   "metadata": {},
   "source": [
    "The drivers dataset contains 50 unique drivers for 4 different regions:\n",
    "* Alameda\n",
    "* Daly City\n",
    "* San Francisco\n",
    "* Concord"
   ]
  },
  {
   "cell_type": "code",
   "execution_count": 148,
   "metadata": {},
   "outputs": [
    {
     "data": {
      "text/html": [
       "<div>\n",
       "<style scoped>\n",
       "    .dataframe tbody tr th:only-of-type {\n",
       "        vertical-align: middle;\n",
       "    }\n",
       "\n",
       "    .dataframe tbody tr th {\n",
       "        vertical-align: top;\n",
       "    }\n",
       "\n",
       "    .dataframe thead th {\n",
       "        text-align: right;\n",
       "    }\n",
       "</style>\n",
       "<table border=\"1\" class=\"dataframe\">\n",
       "  <thead>\n",
       "    <tr style=\"text-align: right;\">\n",
       "      <th></th>\n",
       "      <th>driver_id</th>\n",
       "      <th>onboarding_time</th>\n",
       "      <th>home_region</th>\n",
       "    </tr>\n",
       "  </thead>\n",
       "  <tbody>\n",
       "    <tr>\n",
       "      <th>0</th>\n",
       "      <td>D79396</td>\n",
       "      <td>11/22/2019 09:03 PM</td>\n",
       "      <td>Alameda</td>\n",
       "    </tr>\n",
       "    <tr>\n",
       "      <th>1</th>\n",
       "      <td>D83025</td>\n",
       "      <td>11/18/2019 10:46 PM</td>\n",
       "      <td>Daly City</td>\n",
       "    </tr>\n",
       "    <tr>\n",
       "      <th>2</th>\n",
       "      <td>D31884</td>\n",
       "      <td>12/12/2019 02:06 PM</td>\n",
       "      <td>Daly City</td>\n",
       "    </tr>\n",
       "    <tr>\n",
       "      <th>3</th>\n",
       "      <td>D72540</td>\n",
       "      <td>11/21/2019 01:52 PM</td>\n",
       "      <td>Alameda</td>\n",
       "    </tr>\n",
       "    <tr>\n",
       "      <th>4</th>\n",
       "      <td>D25768</td>\n",
       "      <td>11/12/2019 08:39 AM</td>\n",
       "      <td>San Francisco</td>\n",
       "    </tr>\n",
       "  </tbody>\n",
       "</table>\n",
       "</div>"
      ],
      "text/plain": [
       "  driver_id      onboarding_time    home_region\n",
       "0    D79396  11/22/2019 09:03 PM        Alameda\n",
       "1    D83025  11/18/2019 10:46 PM      Daly City\n",
       "2    D31884  12/12/2019 02:06 PM      Daly City\n",
       "3    D72540  11/21/2019 01:52 PM        Alameda\n",
       "4    D25768  11/12/2019 08:39 AM  San Francisco"
      ]
     },
     "execution_count": 148,
     "metadata": {},
     "output_type": "execute_result"
    }
   ],
   "source": [
    "drivers.head(5)"
   ]
  },
  {
   "cell_type": "code",
   "execution_count": 110,
   "metadata": {},
   "outputs": [
    {
     "name": "stdout",
     "output_type": "stream",
     "text": [
      "       driver_id      onboarding_time    home_region\n",
      "count         50                   50             50\n",
      "unique        50                   50              4\n",
      "top       D96971  12/27/2019 08:25 AM  San Francisco\n",
      "freq           1                    1             16\n"
     ]
    }
   ],
   "source": [
    "print(drivers.describe())"
   ]
  },
  {
   "cell_type": "markdown",
   "metadata": {},
   "source": [
    "### Rides Dataset"
   ]
  },
  {
   "cell_type": "markdown",
   "metadata": {},
   "source": [
    "The rides dataset contains 220 unique rides during the time period of 12/21/2019 until 4/25/2020 for 4 different regions:\n",
    "* Concord\n",
    "* Daly City\n",
    "* San Francisco\n",
    "* Walnut Creek\n",
    "\n",
    "There are 40 unique passengers on the app paired with drivers regardless of their indicated home region. Only 174 of the rides were completed."
   ]
  },
  {
   "cell_type": "code",
   "execution_count": 147,
   "metadata": {},
   "outputs": [
    {
     "data": {
      "text/html": [
       "<div>\n",
       "<style scoped>\n",
       "    .dataframe tbody tr th:only-of-type {\n",
       "        vertical-align: middle;\n",
       "    }\n",
       "\n",
       "    .dataframe tbody tr th {\n",
       "        vertical-align: top;\n",
       "    }\n",
       "\n",
       "    .dataframe thead th {\n",
       "        text-align: right;\n",
       "    }\n",
       "</style>\n",
       "<table border=\"1\" class=\"dataframe\">\n",
       "  <thead>\n",
       "    <tr style=\"text-align: right;\">\n",
       "      <th></th>\n",
       "      <th>ride_id</th>\n",
       "      <th>start_time</th>\n",
       "      <th>end_time</th>\n",
       "      <th>passenger_id</th>\n",
       "      <th>driver_id</th>\n",
       "      <th>ride_region</th>\n",
       "      <th>is_completed</th>\n",
       "    </tr>\n",
       "  </thead>\n",
       "  <tbody>\n",
       "    <tr>\n",
       "      <th>0</th>\n",
       "      <td>R80522</td>\n",
       "      <td>2020-02-12 17:59:00</td>\n",
       "      <td>2020-02-12 18:20:00</td>\n",
       "      <td>P51597</td>\n",
       "      <td>D60668</td>\n",
       "      <td>San Francisco</td>\n",
       "      <td>Y</td>\n",
       "    </tr>\n",
       "    <tr>\n",
       "      <th>1</th>\n",
       "      <td>R52714</td>\n",
       "      <td>2020-02-01 21:59:00</td>\n",
       "      <td>2020-02-01 22:28:00</td>\n",
       "      <td>P24165</td>\n",
       "      <td>D60668</td>\n",
       "      <td>San Francisco</td>\n",
       "      <td>Y</td>\n",
       "    </tr>\n",
       "    <tr>\n",
       "      <th>2</th>\n",
       "      <td>R12066</td>\n",
       "      <td>2020-03-24 19:36:00</td>\n",
       "      <td>2020-03-24 20:13:00</td>\n",
       "      <td>P61317</td>\n",
       "      <td>D64033</td>\n",
       "      <td>Walnut Creek</td>\n",
       "      <td>N</td>\n",
       "    </tr>\n",
       "    <tr>\n",
       "      <th>3</th>\n",
       "      <td>R23235</td>\n",
       "      <td>2019-12-22 20:28:00</td>\n",
       "      <td>2019-12-22 21:02:00</td>\n",
       "      <td>P51597</td>\n",
       "      <td>D48240</td>\n",
       "      <td>San Francisco</td>\n",
       "      <td>Y</td>\n",
       "    </tr>\n",
       "    <tr>\n",
       "      <th>4</th>\n",
       "      <td>R48034</td>\n",
       "      <td>2020-03-20 09:00:00</td>\n",
       "      <td>2020-03-20 09:51:00</td>\n",
       "      <td>P48745</td>\n",
       "      <td>D51051</td>\n",
       "      <td>Concord</td>\n",
       "      <td>Y</td>\n",
       "    </tr>\n",
       "  </tbody>\n",
       "</table>\n",
       "</div>"
      ],
      "text/plain": [
       "  ride_id          start_time            end_time passenger_id driver_id  \\\n",
       "0  R80522 2020-02-12 17:59:00 2020-02-12 18:20:00       P51597    D60668   \n",
       "1  R52714 2020-02-01 21:59:00 2020-02-01 22:28:00       P24165    D60668   \n",
       "2  R12066 2020-03-24 19:36:00 2020-03-24 20:13:00       P61317    D64033   \n",
       "3  R23235 2019-12-22 20:28:00 2019-12-22 21:02:00       P51597    D48240   \n",
       "4  R48034 2020-03-20 09:00:00 2020-03-20 09:51:00       P48745    D51051   \n",
       "\n",
       "     ride_region is_completed  \n",
       "0  San Francisco            Y  \n",
       "1  San Francisco            Y  \n",
       "2   Walnut Creek            N  \n",
       "3  San Francisco            Y  \n",
       "4        Concord            Y  "
      ]
     },
     "execution_count": 147,
     "metadata": {},
     "output_type": "execute_result"
    }
   ],
   "source": [
    "rides.head(5)"
   ]
  },
  {
   "cell_type": "code",
   "execution_count": 114,
   "metadata": {},
   "outputs": [
    {
     "name": "stdout",
     "output_type": "stream",
     "text": [
      "       ride_id           start_time             end_time passenger_id  \\\n",
      "count      220                  220                  220          220   \n",
      "unique     220                  219                  220           40   \n",
      "top     R97391  2020-02-11 21:31:00  2020-02-26 22:23:00       P22921   \n",
      "freq         1                    2                    1           13   \n",
      "first      NaN  2019-12-21 09:15:00  2019-12-21 10:14:00          NaN   \n",
      "last       NaN  2020-04-25 20:52:00  2020-04-25 21:03:00          NaN   \n",
      "\n",
      "       driver_id    ride_region is_completed  \n",
      "count        220            220          220  \n",
      "unique        50              4            2  \n",
      "top       D96971  San Francisco            Y  \n",
      "freq          13            109          174  \n",
      "first        NaN            NaN          NaN  \n",
      "last         NaN            NaN          NaN  \n",
      "\n",
      "Date range: 2019-12-21 09:15:00 - 2020-04-25 20:52:00\n"
     ]
    }
   ],
   "source": [
    "print(rides.describe())\n",
    "print(\"\")\n",
    "print(f\"Date range: {min(rides.start_time)} - {max(rides.start_time)}\")"
   ]
  },
  {
   "cell_type": "markdown",
   "metadata": {},
   "source": [
    "## Load Data into Postgres Server"
   ]
  },
  {
   "cell_type": "markdown",
   "metadata": {},
   "source": [
    "### Setting up Connection to Postgres Server"
   ]
  },
  {
   "cell_type": "code",
   "execution_count": 103,
   "metadata": {},
   "outputs": [],
   "source": [
    "import psycopg2\n",
    "conn = psycopg2.connect(\"host=localhost dbname=lyft user=postgres password=Postgres\")\n",
    "cur = conn.cursor()"
   ]
  },
  {
   "cell_type": "markdown",
   "metadata": {},
   "source": [
    "### Create Table in Postgres Server"
   ]
  },
  {
   "cell_type": "code",
   "execution_count": 115,
   "metadata": {},
   "outputs": [],
   "source": [
    "cur.execute(\"\"\"CREATE TABLE drivers(\n",
    "    driver_id TEXT PRIMARY KEY,\n",
    "    onboarding_time TIMESTAMP,\n",
    "    home_region TEXT\n",
    ");\n",
    "\n",
    "CREATE TABLE rides(\n",
    "    ride_id TEXT PRIMARY KEY,\n",
    "    start_time TIMESTAMP,\n",
    "    end_time TIMESTAMP,\n",
    "    passenger_id TEXT,\n",
    "    driver_id TEXT,\n",
    "    ride_region TEXT,\n",
    "    is_completed TEXT\n",
    ");\n",
    "\"\"\")\n",
    "\n",
    "conn.commit()"
   ]
  },
  {
   "cell_type": "markdown",
   "metadata": {},
   "source": [
    "### Loading Data into Postgres Server "
   ]
  },
  {
   "cell_type": "code",
   "execution_count": 116,
   "metadata": {},
   "outputs": [],
   "source": [
    "with open('./Data/drivers.csv', 'r') as f:\n",
    "    # Notice that we don't need the `csv` module.\n",
    "    next(f) # Skip the header row.\n",
    "    cur.copy_from(f, 'drivers', sep=',')\n",
    "\n",
    "conn.commit()\n",
    "\n",
    "with open('./Data/rides.csv', 'r') as f:\n",
    "    # Notice that we don't need the `csv` module.\n",
    "    next(f) # Skip the header row.\n",
    "    cur.copy_from(f, 'rides', sep=',')\n",
    "\n",
    "conn.commit()"
   ]
  }
 ],
 "metadata": {
  "kernelspec": {
   "display_name": "Python 3",
   "language": "python",
   "name": "python3"
  },
  "language_info": {
   "codemirror_mode": {
    "name": "ipython",
    "version": 3
   },
   "file_extension": ".py",
   "mimetype": "text/x-python",
   "name": "python",
   "nbconvert_exporter": "python",
   "pygments_lexer": "ipython3",
   "version": "3.7.3"
  }
 },
 "nbformat": 4,
 "nbformat_minor": 2
}
